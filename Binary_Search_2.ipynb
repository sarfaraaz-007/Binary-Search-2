{
  "nbformat": 4,
  "nbformat_minor": 0,
  "metadata": {
    "colab": {
      "provenance": []
    },
    "kernelspec": {
      "name": "python3",
      "display_name": "Python 3"
    },
    "language_info": {
      "name": "python"
    }
  },
  "cells": [
    {
      "cell_type": "code",
      "execution_count": 2,
      "metadata": {
        "id": "tLrizyiV22Ck"
      },
      "outputs": [],
      "source": [
        "#Finding first and last elements in a sorted array\n",
        "class Solution(object):\n",
        "    def searchRange(self, nums, target):\n",
        "        \"\"\"\n",
        "        :type nums: List[int]\n",
        "        :type target: int\n",
        "        :rtype: List[int]\n",
        "        \"\"\"\n",
        "        return [self.binarysearch(nums, True, target), self.binarysearch(nums, False, target)]\n",
        "\n",
        "    def binarysearch(self, nums, is_first, target):\n",
        "        low = 0\n",
        "        high = len(nums)-1\n",
        "        while(low<=high):\n",
        "            mid = low + (high - low)//2\n",
        "            if nums[mid] == target:\n",
        "                if is_first:\n",
        "                    if mid == 0 or nums[mid]>nums[mid-1]:\n",
        "                        return mid\n",
        "                    else:\n",
        "                        high = mid - 1\n",
        "                else:\n",
        "                    if mid == len(nums)-1 or nums[mid]<nums[mid+1]:\n",
        "                        return mid\n",
        "                    else:\n",
        "                        low = mid + 1\n",
        "\n",
        "            elif nums[mid]>target:\n",
        "                high = mid - 1\n",
        "            else:\n",
        "                low = mid + 1\n",
        "        return -1\n",
        "\n",
        "\n",
        "# TC : O(logn)\n",
        "# SC : O(1)\n"
      ]
    },
    {
      "cell_type": "code",
      "source": [
        "#Find Peak Element\n",
        "class Solution(object):\n",
        "    def findPeakElement(self, nums):\n",
        "        \"\"\"\n",
        "        :type nums: List[int]\n",
        "        :rtype: int\n",
        "        \"\"\"\n",
        "        low = 0\n",
        "        high = len(nums)-1\n",
        "        while(low <= high):\n",
        "            mid = low + (high - low)//2\n",
        "            if (mid == 0 or nums[mid]>nums[mid-1]) and (mid == len(nums)-1 or nums[mid] > nums[mid+1]):\n",
        "                return mid\n",
        "\n",
        "            elif mid<len(nums)-1 and nums[mid+1]>nums[mid]:\n",
        "                low = mid + 1\n",
        "            else:\n",
        "                high = mid - 1\n",
        "        return -1\n",
        "\n",
        "# TC : O(logn)\n",
        "# SC : O(1)\n"
      ],
      "metadata": {
        "id": "UyEiHmqUx7gL"
      },
      "execution_count": 3,
      "outputs": []
    },
    {
      "cell_type": "code",
      "source": [
        " #Find Minimum in Rotated Sorted Array\n",
        "\n",
        "class Solution(object):\n",
        "    def findMin(self, nums):\n",
        "        \"\"\"\n",
        "        :type nums: List[int]\n",
        "        :rtype: int\n",
        "        \"\"\"\n",
        "        low = 0\n",
        "        high = len(nums)-1\n",
        "        while(low<=high):\n",
        "            if nums[low]<nums[high]:\n",
        "                return nums[low]\n",
        "            mid = low + (high-low)//2\n",
        "            if (mid == 0 or nums[mid]<nums[mid-1]) and (mid == len(nums)-1 or nums[mid]<nums[mid+1]):\n",
        "                return nums[mid]\n",
        "\n",
        "            elif nums[low]<=nums[mid]:\n",
        "                low = mid+1\n",
        "            else:\n",
        "                high = mid - 1\n",
        "\n",
        "# TC : O(logn)\n",
        "# SC : O(1)"
      ],
      "metadata": {
        "id": "zolGeM7DyJbx"
      },
      "execution_count": 4,
      "outputs": []
    }
  ]
}